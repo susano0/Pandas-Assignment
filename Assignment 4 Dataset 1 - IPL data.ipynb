{
 "cells": [
  {
   "cell_type": "markdown",
   "metadata": {},
   "source": [
    "# Assignment 4 - Dataset 1: IPL data"
   ]
  },
  {
   "cell_type": "code",
   "execution_count": 2,
   "metadata": {},
   "outputs": [],
   "source": [
    "import pandas as pd"
   ]
  },
  {
   "cell_type": "code",
   "execution_count": 3,
   "metadata": {},
   "outputs": [],
   "source": [
    "ipl_del = pd.read_csv(\"ipldata\\deliveries.csv\")"
   ]
  },
  {
   "cell_type": "code",
   "execution_count": 4,
   "metadata": {},
   "outputs": [
    {
     "data": {
      "text/html": [
       "<div>\n",
       "<style scoped>\n",
       "    .dataframe tbody tr th:only-of-type {\n",
       "        vertical-align: middle;\n",
       "    }\n",
       "\n",
       "    .dataframe tbody tr th {\n",
       "        vertical-align: top;\n",
       "    }\n",
       "\n",
       "    .dataframe thead th {\n",
       "        text-align: right;\n",
       "    }\n",
       "</style>\n",
       "<table border=\"1\" class=\"dataframe\">\n",
       "  <thead>\n",
       "    <tr style=\"text-align: right;\">\n",
       "      <th></th>\n",
       "      <th>match_id</th>\n",
       "      <th>inning</th>\n",
       "      <th>batting_team</th>\n",
       "      <th>bowling_team</th>\n",
       "      <th>over</th>\n",
       "      <th>ball</th>\n",
       "      <th>batsman</th>\n",
       "      <th>non_striker</th>\n",
       "      <th>bowler</th>\n",
       "      <th>is_super_over</th>\n",
       "      <th>...</th>\n",
       "      <th>bye_runs</th>\n",
       "      <th>legbye_runs</th>\n",
       "      <th>noball_runs</th>\n",
       "      <th>penalty_runs</th>\n",
       "      <th>batsman_runs</th>\n",
       "      <th>extra_runs</th>\n",
       "      <th>total_runs</th>\n",
       "      <th>player_dismissed</th>\n",
       "      <th>dismissal_kind</th>\n",
       "      <th>fielder</th>\n",
       "    </tr>\n",
       "  </thead>\n",
       "  <tbody>\n",
       "    <tr>\n",
       "      <th>0</th>\n",
       "      <td>1</td>\n",
       "      <td>1</td>\n",
       "      <td>Sunrisers Hyderabad</td>\n",
       "      <td>Royal Challengers Bangalore</td>\n",
       "      <td>1</td>\n",
       "      <td>1</td>\n",
       "      <td>DA Warner</td>\n",
       "      <td>S Dhawan</td>\n",
       "      <td>TS Mills</td>\n",
       "      <td>0</td>\n",
       "      <td>...</td>\n",
       "      <td>0</td>\n",
       "      <td>0</td>\n",
       "      <td>0</td>\n",
       "      <td>0</td>\n",
       "      <td>0</td>\n",
       "      <td>0</td>\n",
       "      <td>0</td>\n",
       "      <td>NaN</td>\n",
       "      <td>NaN</td>\n",
       "      <td>NaN</td>\n",
       "    </tr>\n",
       "    <tr>\n",
       "      <th>1</th>\n",
       "      <td>1</td>\n",
       "      <td>1</td>\n",
       "      <td>Sunrisers Hyderabad</td>\n",
       "      <td>Royal Challengers Bangalore</td>\n",
       "      <td>1</td>\n",
       "      <td>2</td>\n",
       "      <td>DA Warner</td>\n",
       "      <td>S Dhawan</td>\n",
       "      <td>TS Mills</td>\n",
       "      <td>0</td>\n",
       "      <td>...</td>\n",
       "      <td>0</td>\n",
       "      <td>0</td>\n",
       "      <td>0</td>\n",
       "      <td>0</td>\n",
       "      <td>0</td>\n",
       "      <td>0</td>\n",
       "      <td>0</td>\n",
       "      <td>NaN</td>\n",
       "      <td>NaN</td>\n",
       "      <td>NaN</td>\n",
       "    </tr>\n",
       "    <tr>\n",
       "      <th>2</th>\n",
       "      <td>1</td>\n",
       "      <td>1</td>\n",
       "      <td>Sunrisers Hyderabad</td>\n",
       "      <td>Royal Challengers Bangalore</td>\n",
       "      <td>1</td>\n",
       "      <td>3</td>\n",
       "      <td>DA Warner</td>\n",
       "      <td>S Dhawan</td>\n",
       "      <td>TS Mills</td>\n",
       "      <td>0</td>\n",
       "      <td>...</td>\n",
       "      <td>0</td>\n",
       "      <td>0</td>\n",
       "      <td>0</td>\n",
       "      <td>0</td>\n",
       "      <td>4</td>\n",
       "      <td>0</td>\n",
       "      <td>4</td>\n",
       "      <td>NaN</td>\n",
       "      <td>NaN</td>\n",
       "      <td>NaN</td>\n",
       "    </tr>\n",
       "    <tr>\n",
       "      <th>3</th>\n",
       "      <td>1</td>\n",
       "      <td>1</td>\n",
       "      <td>Sunrisers Hyderabad</td>\n",
       "      <td>Royal Challengers Bangalore</td>\n",
       "      <td>1</td>\n",
       "      <td>4</td>\n",
       "      <td>DA Warner</td>\n",
       "      <td>S Dhawan</td>\n",
       "      <td>TS Mills</td>\n",
       "      <td>0</td>\n",
       "      <td>...</td>\n",
       "      <td>0</td>\n",
       "      <td>0</td>\n",
       "      <td>0</td>\n",
       "      <td>0</td>\n",
       "      <td>0</td>\n",
       "      <td>0</td>\n",
       "      <td>0</td>\n",
       "      <td>NaN</td>\n",
       "      <td>NaN</td>\n",
       "      <td>NaN</td>\n",
       "    </tr>\n",
       "    <tr>\n",
       "      <th>4</th>\n",
       "      <td>1</td>\n",
       "      <td>1</td>\n",
       "      <td>Sunrisers Hyderabad</td>\n",
       "      <td>Royal Challengers Bangalore</td>\n",
       "      <td>1</td>\n",
       "      <td>5</td>\n",
       "      <td>DA Warner</td>\n",
       "      <td>S Dhawan</td>\n",
       "      <td>TS Mills</td>\n",
       "      <td>0</td>\n",
       "      <td>...</td>\n",
       "      <td>0</td>\n",
       "      <td>0</td>\n",
       "      <td>0</td>\n",
       "      <td>0</td>\n",
       "      <td>0</td>\n",
       "      <td>2</td>\n",
       "      <td>2</td>\n",
       "      <td>NaN</td>\n",
       "      <td>NaN</td>\n",
       "      <td>NaN</td>\n",
       "    </tr>\n",
       "  </tbody>\n",
       "</table>\n",
       "<p>5 rows × 21 columns</p>\n",
       "</div>"
      ],
      "text/plain": [
       "   match_id  inning         batting_team                 bowling_team  over  \\\n",
       "0         1       1  Sunrisers Hyderabad  Royal Challengers Bangalore     1   \n",
       "1         1       1  Sunrisers Hyderabad  Royal Challengers Bangalore     1   \n",
       "2         1       1  Sunrisers Hyderabad  Royal Challengers Bangalore     1   \n",
       "3         1       1  Sunrisers Hyderabad  Royal Challengers Bangalore     1   \n",
       "4         1       1  Sunrisers Hyderabad  Royal Challengers Bangalore     1   \n",
       "\n",
       "   ball    batsman non_striker    bowler  is_super_over  ...  bye_runs  \\\n",
       "0     1  DA Warner    S Dhawan  TS Mills              0  ...         0   \n",
       "1     2  DA Warner    S Dhawan  TS Mills              0  ...         0   \n",
       "2     3  DA Warner    S Dhawan  TS Mills              0  ...         0   \n",
       "3     4  DA Warner    S Dhawan  TS Mills              0  ...         0   \n",
       "4     5  DA Warner    S Dhawan  TS Mills              0  ...         0   \n",
       "\n",
       "   legbye_runs  noball_runs  penalty_runs  batsman_runs  extra_runs  \\\n",
       "0            0            0             0             0           0   \n",
       "1            0            0             0             0           0   \n",
       "2            0            0             0             4           0   \n",
       "3            0            0             0             0           0   \n",
       "4            0            0             0             0           2   \n",
       "\n",
       "   total_runs  player_dismissed dismissal_kind fielder  \n",
       "0           0               NaN            NaN     NaN  \n",
       "1           0               NaN            NaN     NaN  \n",
       "2           4               NaN            NaN     NaN  \n",
       "3           0               NaN            NaN     NaN  \n",
       "4           2               NaN            NaN     NaN  \n",
       "\n",
       "[5 rows x 21 columns]"
      ]
     },
     "execution_count": 4,
     "metadata": {},
     "output_type": "execute_result"
    }
   ],
   "source": [
    "ipl_del.head()"
   ]
  },
  {
   "cell_type": "code",
   "execution_count": 5,
   "metadata": {},
   "outputs": [],
   "source": [
    "ipl_match = pd.read_csv(\"ipldata\\matches.csv\")"
   ]
  },
  {
   "cell_type": "code",
   "execution_count": 6,
   "metadata": {},
   "outputs": [
    {
     "data": {
      "text/html": [
       "<div>\n",
       "<style scoped>\n",
       "    .dataframe tbody tr th:only-of-type {\n",
       "        vertical-align: middle;\n",
       "    }\n",
       "\n",
       "    .dataframe tbody tr th {\n",
       "        vertical-align: top;\n",
       "    }\n",
       "\n",
       "    .dataframe thead th {\n",
       "        text-align: right;\n",
       "    }\n",
       "</style>\n",
       "<table border=\"1\" class=\"dataframe\">\n",
       "  <thead>\n",
       "    <tr style=\"text-align: right;\">\n",
       "      <th></th>\n",
       "      <th>id</th>\n",
       "      <th>season</th>\n",
       "      <th>city</th>\n",
       "      <th>date</th>\n",
       "      <th>team1</th>\n",
       "      <th>team2</th>\n",
       "      <th>toss_winner</th>\n",
       "      <th>toss_decision</th>\n",
       "      <th>result</th>\n",
       "      <th>dl_applied</th>\n",
       "      <th>winner</th>\n",
       "      <th>win_by_runs</th>\n",
       "      <th>win_by_wickets</th>\n",
       "      <th>player_of_match</th>\n",
       "      <th>venue</th>\n",
       "      <th>umpire1</th>\n",
       "      <th>umpire2</th>\n",
       "      <th>umpire3</th>\n",
       "    </tr>\n",
       "  </thead>\n",
       "  <tbody>\n",
       "    <tr>\n",
       "      <th>0</th>\n",
       "      <td>1</td>\n",
       "      <td>2017</td>\n",
       "      <td>Hyderabad</td>\n",
       "      <td>2017-04-05</td>\n",
       "      <td>Sunrisers Hyderabad</td>\n",
       "      <td>Royal Challengers Bangalore</td>\n",
       "      <td>Royal Challengers Bangalore</td>\n",
       "      <td>field</td>\n",
       "      <td>normal</td>\n",
       "      <td>0</td>\n",
       "      <td>Sunrisers Hyderabad</td>\n",
       "      <td>35</td>\n",
       "      <td>0</td>\n",
       "      <td>Yuvraj Singh</td>\n",
       "      <td>Rajiv Gandhi International Stadium, Uppal</td>\n",
       "      <td>AY Dandekar</td>\n",
       "      <td>NJ Llong</td>\n",
       "      <td>NaN</td>\n",
       "    </tr>\n",
       "    <tr>\n",
       "      <th>1</th>\n",
       "      <td>2</td>\n",
       "      <td>2017</td>\n",
       "      <td>Pune</td>\n",
       "      <td>2017-04-06</td>\n",
       "      <td>Mumbai Indians</td>\n",
       "      <td>Rising Pune Supergiant</td>\n",
       "      <td>Rising Pune Supergiant</td>\n",
       "      <td>field</td>\n",
       "      <td>normal</td>\n",
       "      <td>0</td>\n",
       "      <td>Rising Pune Supergiant</td>\n",
       "      <td>0</td>\n",
       "      <td>7</td>\n",
       "      <td>SPD Smith</td>\n",
       "      <td>Maharashtra Cricket Association Stadium</td>\n",
       "      <td>A Nand Kishore</td>\n",
       "      <td>S Ravi</td>\n",
       "      <td>NaN</td>\n",
       "    </tr>\n",
       "    <tr>\n",
       "      <th>2</th>\n",
       "      <td>3</td>\n",
       "      <td>2017</td>\n",
       "      <td>Rajkot</td>\n",
       "      <td>2017-04-07</td>\n",
       "      <td>Gujarat Lions</td>\n",
       "      <td>Kolkata Knight Riders</td>\n",
       "      <td>Kolkata Knight Riders</td>\n",
       "      <td>field</td>\n",
       "      <td>normal</td>\n",
       "      <td>0</td>\n",
       "      <td>Kolkata Knight Riders</td>\n",
       "      <td>0</td>\n",
       "      <td>10</td>\n",
       "      <td>CA Lynn</td>\n",
       "      <td>Saurashtra Cricket Association Stadium</td>\n",
       "      <td>Nitin Menon</td>\n",
       "      <td>CK Nandan</td>\n",
       "      <td>NaN</td>\n",
       "    </tr>\n",
       "    <tr>\n",
       "      <th>3</th>\n",
       "      <td>4</td>\n",
       "      <td>2017</td>\n",
       "      <td>Indore</td>\n",
       "      <td>2017-04-08</td>\n",
       "      <td>Rising Pune Supergiant</td>\n",
       "      <td>Kings XI Punjab</td>\n",
       "      <td>Kings XI Punjab</td>\n",
       "      <td>field</td>\n",
       "      <td>normal</td>\n",
       "      <td>0</td>\n",
       "      <td>Kings XI Punjab</td>\n",
       "      <td>0</td>\n",
       "      <td>6</td>\n",
       "      <td>GJ Maxwell</td>\n",
       "      <td>Holkar Cricket Stadium</td>\n",
       "      <td>AK Chaudhary</td>\n",
       "      <td>C Shamshuddin</td>\n",
       "      <td>NaN</td>\n",
       "    </tr>\n",
       "    <tr>\n",
       "      <th>4</th>\n",
       "      <td>5</td>\n",
       "      <td>2017</td>\n",
       "      <td>Bangalore</td>\n",
       "      <td>2017-04-08</td>\n",
       "      <td>Royal Challengers Bangalore</td>\n",
       "      <td>Delhi Daredevils</td>\n",
       "      <td>Royal Challengers Bangalore</td>\n",
       "      <td>bat</td>\n",
       "      <td>normal</td>\n",
       "      <td>0</td>\n",
       "      <td>Royal Challengers Bangalore</td>\n",
       "      <td>15</td>\n",
       "      <td>0</td>\n",
       "      <td>KM Jadhav</td>\n",
       "      <td>M Chinnaswamy Stadium</td>\n",
       "      <td>NaN</td>\n",
       "      <td>NaN</td>\n",
       "      <td>NaN</td>\n",
       "    </tr>\n",
       "  </tbody>\n",
       "</table>\n",
       "</div>"
      ],
      "text/plain": [
       "   id  season       city        date                        team1  \\\n",
       "0   1    2017  Hyderabad  2017-04-05          Sunrisers Hyderabad   \n",
       "1   2    2017       Pune  2017-04-06               Mumbai Indians   \n",
       "2   3    2017     Rajkot  2017-04-07                Gujarat Lions   \n",
       "3   4    2017     Indore  2017-04-08       Rising Pune Supergiant   \n",
       "4   5    2017  Bangalore  2017-04-08  Royal Challengers Bangalore   \n",
       "\n",
       "                         team2                  toss_winner toss_decision  \\\n",
       "0  Royal Challengers Bangalore  Royal Challengers Bangalore         field   \n",
       "1       Rising Pune Supergiant       Rising Pune Supergiant         field   \n",
       "2        Kolkata Knight Riders        Kolkata Knight Riders         field   \n",
       "3              Kings XI Punjab              Kings XI Punjab         field   \n",
       "4             Delhi Daredevils  Royal Challengers Bangalore           bat   \n",
       "\n",
       "   result  dl_applied                       winner  win_by_runs  \\\n",
       "0  normal           0          Sunrisers Hyderabad           35   \n",
       "1  normal           0       Rising Pune Supergiant            0   \n",
       "2  normal           0        Kolkata Knight Riders            0   \n",
       "3  normal           0              Kings XI Punjab            0   \n",
       "4  normal           0  Royal Challengers Bangalore           15   \n",
       "\n",
       "   win_by_wickets player_of_match                                      venue  \\\n",
       "0               0    Yuvraj Singh  Rajiv Gandhi International Stadium, Uppal   \n",
       "1               7       SPD Smith    Maharashtra Cricket Association Stadium   \n",
       "2              10         CA Lynn     Saurashtra Cricket Association Stadium   \n",
       "3               6      GJ Maxwell                     Holkar Cricket Stadium   \n",
       "4               0       KM Jadhav                      M Chinnaswamy Stadium   \n",
       "\n",
       "          umpire1        umpire2 umpire3  \n",
       "0     AY Dandekar       NJ Llong     NaN  \n",
       "1  A Nand Kishore         S Ravi     NaN  \n",
       "2     Nitin Menon      CK Nandan     NaN  \n",
       "3    AK Chaudhary  C Shamshuddin     NaN  \n",
       "4             NaN            NaN     NaN  "
      ]
     },
     "execution_count": 6,
     "metadata": {},
     "output_type": "execute_result"
    }
   ],
   "source": [
    "ipl_match.head()"
   ]
  },
  {
   "cell_type": "markdown",
   "metadata": {},
   "source": [
    "##  1) Which team has won/lost maximum number of matches while chasing?"
   ]
  },
  {
   "cell_type": "code",
   "execution_count": 195,
   "metadata": {},
   "outputs": [
    {
     "data": {
      "text/plain": [
       "'Kolkata Knight Riders'"
      ]
     },
     "execution_count": 195,
     "metadata": {},
     "output_type": "execute_result"
    }
   ],
   "source": [
    "# Max wins while chasing\n",
    "ipl_match[ipl_match['winner']==ipl_match['team2']]['winner'].value_counts().idxmax()"
   ]
  },
  {
   "cell_type": "code",
   "execution_count": 162,
   "metadata": {},
   "outputs": [
    {
     "data": {
      "text/plain": [
       "'Delhi Daredevils'"
      ]
     },
     "execution_count": 162,
     "metadata": {},
     "output_type": "execute_result"
    }
   ],
   "source": [
    "# Max loss while chasing\n",
    "ipl_match[ipl_match['winner']!=ipl_match['team2']]['team2'].value_counts().idxmax()"
   ]
  },
  {
   "cell_type": "markdown",
   "metadata": {},
   "source": [
    "## 2) Which toss decision is best for each ground?"
   ]
  },
  {
   "cell_type": "code",
   "execution_count": 9,
   "metadata": {},
   "outputs": [
    {
     "name": "stderr",
     "output_type": "stream",
     "text": [
      "C:\\Users\\Utkarsh\\Anaconda3\\lib\\site-packages\\ipykernel_launcher.py:2: SettingWithCopyWarning: \n",
      "A value is trying to be set on a copy of a slice from a DataFrame.\n",
      "Try using .loc[row_indexer,col_indexer] = value instead\n",
      "\n",
      "See the caveats in the documentation: http://pandas.pydata.org/pandas-docs/stable/indexing.html#indexing-view-versus-copy\n",
      "  \n",
      "C:\\Users\\Utkarsh\\Anaconda3\\lib\\site-packages\\ipykernel_launcher.py:3: SettingWithCopyWarning: \n",
      "A value is trying to be set on a copy of a slice from a DataFrame.\n",
      "Try using .loc[row_indexer,col_indexer] = value instead\n",
      "\n",
      "See the caveats in the documentation: http://pandas.pydata.org/pandas-docs/stable/indexing.html#indexing-view-versus-copy\n",
      "  This is separate from the ipykernel package so we can avoid doing imports until\n"
     ]
    },
    {
     "data": {
      "text/plain": [
       "venue\n",
       "ACA-VDCA Stadium                                               field\n",
       "Barabati Stadium                                                 bat\n",
       "Brabourne Stadium                                                bat\n",
       "Buffalo Park                                                     bat\n",
       "De Beers Diamond Oval                                          field\n",
       "Dr DY Patil Sports Academy                                     field\n",
       "Dr. Y.S. Rajasekhara Reddy ACA-VDCA Cricket Stadium              bat\n",
       "Dubai International Cricket Stadium                            field\n",
       "Eden Gardens                                                   field\n",
       "Feroz Shah Kotla                                               field\n",
       "Feroz Shah Kotla Ground                                        field\n",
       "Green Park                                                     field\n",
       "Himachal Pradesh Cricket Association Stadium                     bat\n",
       "Holkar Cricket Stadium                                         field\n",
       "IS Bindra Stadium                                              field\n",
       "JSCA International Stadium Complex                             field\n",
       "Kingsmead                                                        bat\n",
       "M Chinnaswamy Stadium                                          field\n",
       "M. A. Chidambaram Stadium                               bat or field\n",
       "M. Chinnaswamy Stadium                                  bat or field\n",
       "MA Chidambaram Stadium, Chepauk                                  bat\n",
       "Maharashtra Cricket Association Stadium                        field\n",
       "Nehru Stadium                                                    bat\n",
       "New Wanderers Stadium                                          field\n",
       "Newlands                                                         bat\n",
       "OUTsurance Oval                                         bat or field\n",
       "Punjab Cricket Association IS Bindra Stadium, Mohali    bat or field\n",
       "Punjab Cricket Association Stadium, Mohali                     field\n",
       "Rajiv Gandhi International Stadium, Uppal                      field\n",
       "Rajiv Gandhi Intl. Cricket Stadium                               bat\n",
       "Sardar Patel Stadium, Motera                            bat or field\n",
       "Saurashtra Cricket Association Stadium                         field\n",
       "Sawai Mansingh Stadium                                         field\n",
       "Shaheed Veer Narayan Singh International Stadium               field\n",
       "Sharjah Cricket Stadium                                        field\n",
       "Sheikh Zayed Stadium                                             bat\n",
       "St George's Park                                               field\n",
       "Subrata Roy Sahara Stadium                                       bat\n",
       "SuperSport Park                                                field\n",
       "Vidarbha Cricket Association Stadium, Jamtha                     bat\n",
       "Wankhede Stadium                                               field\n",
       "Name: decision, dtype: object"
      ]
     },
     "execution_count": 9,
     "metadata": {},
     "output_type": "execute_result"
    }
   ],
   "source": [
    "temp = ipl_match[['winner','team1','team2','venue']]\n",
    "temp['bat'] = (temp['team1'] == temp['winner'])\n",
    "temp['field'] = (temp['team2'] == temp['winner'])\n",
    "temp = temp[['venue','bat','field']]\n",
    "tt1 = pd.DataFrame(temp.groupby('venue')['bat'].apply(lambda x: x[x == True].count()))\n",
    "tt2 = pd.DataFrame(temp.groupby('venue')['field'].apply(lambda x: x[x == True].count()))\n",
    "t2sol = pd.merge(tt1, tt2, on='venue')\n",
    "t2sol['decision'] = t2sol.apply (lambda row: ('bat' if row['bat']>row['field'] else 'bat or field') if row['bat']>=row['field'] else 'field', axis=1)\n",
    "t2sol['decision']"
   ]
  },
  {
   "cell_type": "markdown",
   "metadata": {},
   "source": [
    "## 3) Which player has won maximum number of MoM awards while chasing?"
   ]
  },
  {
   "cell_type": "code",
   "execution_count": 89,
   "metadata": {},
   "outputs": [
    {
     "data": {
      "text/plain": [
       "'YK Pathan'"
      ]
     },
     "execution_count": 89,
     "metadata": {},
     "output_type": "execute_result"
    }
   ],
   "source": [
    "ipl_match[ipl_match['winner']==ipl_match['team2']]['player_of_match'].value_counts().idxmax()"
   ]
  },
  {
   "cell_type": "markdown",
   "metadata": {},
   "source": [
    "## 4) Which batsman has played maximum number of dot balls?"
   ]
  },
  {
   "cell_type": "code",
   "execution_count": 139,
   "metadata": {},
   "outputs": [
    {
     "data": {
      "text/plain": [
       "'V Kohli'"
      ]
     },
     "execution_count": 139,
     "metadata": {},
     "output_type": "execute_result"
    }
   ],
   "source": [
    "ipl_del[ipl_del['total_runs']==0].groupby('batsman')['total_runs'].value_counts().idxmax()[0]"
   ]
  },
  {
   "cell_type": "markdown",
   "metadata": {},
   "source": [
    "## 5) Which batsmen came to crease but never got a chance to face a ball?"
   ]
  },
  {
   "cell_type": "code",
   "execution_count": 227,
   "metadata": {},
   "outputs": [
    {
     "name": "stdout",
     "output_type": "stream",
     "text": [
      "2  ->  ['MJ McClenaghan']\n",
      "3  ->  ['DR Smith']\n",
      "4  ->  ['R Bhatia']\n",
      "10  ->  ['A Nehra']\n",
      "11  ->  ['Sandeep Sharma']\n",
      "21  ->  ['CH Morris']\n",
      "28  ->  ['MJ McClenaghan', 'MG Johnson']\n",
      "29  ->  ['MK Pandey']\n",
      "31  ->  ['PJ Cummins']\n",
      "37  ->  ['S Aravind']\n",
      "43  ->  ['A Nehra', 'JD Unadkat']\n",
      "45  ->  ['S Aravind']\n",
      "51  ->  ['S Nadeem']\n",
      "54  ->  ['Sandeep Sharma']\n",
      "64  ->  ['PP Ojha']\n",
      "71  ->  ['AB Dinda']\n",
      "74  ->  ['JDP Oram']\n",
      "75  ->  ['I Sharma']\n",
      "79  ->  ['Joginder Sharma']\n",
      "80  ->  ['DP Vijaykumar', 'SB Bangar']\n",
      "82  ->  ['A Nehra']\n",
      "90  ->  ['A Kumble']\n",
      "91  ->  ['S Sreesanth']\n",
      "95  ->  ['GD McGrath']\n",
      "109  ->  ['A Nel']\n",
      "111  ->  ['Z Khan']\n",
      "115  ->  ['MM Patel']\n",
      "118  ->  ['PR Shah']\n",
      "119  ->  ['DW Steyn']\n",
      "120  ->  ['T Kohli', 'PP Chawla']\n",
      "125  ->  ['L Balaji', 'DL Vettori']\n",
      "129  ->  ['R Vinay Kumar']\n",
      "130  ->  ['K Goel']\n",
      "131  ->  ['MS Gony']\n",
      "135  ->  ['Z Khan']\n",
      "138  ->  ['AB Agarkar']\n",
      "139  ->  ['RR Powar']\n",
      "140  ->  ['Y Venugopal Rao']\n",
      "141  ->  ['A Nehra', 'S Tyagi']\n",
      "148  ->  ['A Kumble']\n",
      "150  ->  ['SL Malinga']\n",
      "155  ->  ['RP Singh']\n",
      "157  ->  ['PP Chawla']\n",
      "158  ->  ['PJ Sangwan']\n",
      "159  ->  ['S Tyagi']\n",
      "160  ->  ['SK Warne']\n",
      "163  ->  ['AB Agarkar']\n",
      "164  ->  ['Jaskaran Singh']\n",
      "170  ->  ['DS Kulkarni', 'SL Malinga']\n",
      "176  ->  ['Z Khan', 'SA Asnodkar']\n",
      "183  ->  ['R Sathish']\n",
      "187  ->  ['AD Mathews']\n",
      "188  ->  ['SL Malinga']\n",
      "193  ->  ['AA Jhunjhunwala']\n",
      "195  ->  ['PP Ojha']\n",
      "196  ->  ['WP Saha']\n",
      "198  ->  ['SK Warne']\n",
      "199  ->  ['PP Ojha']\n",
      "202  ->  ['C Ganapathy']\n",
      "204  ->  ['Y Venugopal Rao']\n",
      "206  ->  ['S Anirudha']\n",
      "210  ->  ['PP Ojha', 'Harmeet Singh']\n",
      "214  ->  ['P Kumar']\n",
      "216  ->  ['SB Jakati']\n",
      "227  ->  ['Kamran Khan']\n",
      "232  ->  ['SB Jakati']\n",
      "233  ->  ['Harmeet Singh']\n",
      "247  ->  ['KA Pollard']\n",
      "250  ->  ['S Nadeem']\n",
      "258  ->  ['MK Tiwary']\n",
      "266  ->  ['AB Agarkar']\n",
      "268  ->  ['A Mithun']\n",
      "271  ->  ['M Kartik']\n",
      "273  ->  ['TL Suman']\n",
      "275  ->  ['MV Boucher']\n",
      "276  ->  ['JA Morkel']\n",
      "283  ->  ['RP Singh']\n",
      "285  ->  ['SK Trivedi']\n",
      "286  ->  ['I Sharma']\n",
      "287  ->  ['SL Malinga']\n",
      "289  ->  ['WP Saha']\n",
      "291  ->  ['A Mithun']\n",
      "292  ->  ['DS Kulkarni', 'SL Malinga']\n",
      "302  ->  ['SB Jakati']\n",
      "305  ->  ['RG Sharma']\n",
      "307  ->  ['S Badrinath']\n",
      "310  ->  ['R Sharma']\n",
      "313  ->  ['TP Sudhindra']\n",
      "318  ->  ['M Vijay']\n",
      "320  ->  ['Z Khan']\n",
      "329  ->  ['B Kumar']\n",
      "331  ->  ['PA Patel']\n",
      "343  ->  ['P Awana']\n",
      "345  ->  ['AB Agarkar']\n",
      "347  ->  ['LR Shukla']\n",
      "353  ->  ['M Kartik']\n",
      "357  ->  ['M Morkel']\n",
      "366  ->  ['PA Reddy']\n",
      "370  ->  ['MM Patel']\n",
      "376  ->  ['DW Steyn']\n",
      "377  ->  ['GB Hogg']\n",
      "382  ->  ['UT Yadav']\n",
      "385  ->  ['S Sreesanth']\n",
      "386  ->  ['DP Nannes']\n",
      "388  ->  ['A Mishra']\n",
      "400  ->  ['L Balaji', 'P Awana']\n",
      "405  ->  ['MS Gony']\n",
      "406  ->  ['JH Kallis']\n",
      "412  ->  ['PP Chawla']\n",
      "416  ->  ['I Sharma']\n",
      "417  ->  ['AT Rayudu']\n",
      "424  ->  ['G Gambhir']\n",
      "431  ->  ['M Rawat']\n",
      "434  ->  ['AT Rayudu', 'Harbhajan Singh']\n",
      "435  ->  ['I Sharma']\n",
      "445  ->  ['LJ Wright']\n",
      "449  ->  ['A Mishra']\n",
      "451  ->  ['S Kaul']\n",
      "452  ->  ['S Badrinath']\n",
      "454  ->  ['MM Patel']\n",
      "461  ->  ['DW Steyn']\n",
      "463  ->  ['NM Coulter-Nile']\n",
      "465  ->  ['BW Hilfenhaus']\n",
      "466  ->  ['AR Patel']\n",
      "468  ->  ['MA Starc']\n",
      "471  ->  ['YS Chahal', 'STR Binny']\n",
      "473  ->  ['Z Khan']\n",
      "478  ->  ['R Vinay Kumar']\n",
      "480  ->  ['WD Parnell']\n",
      "484  ->  ['AP Tare']\n",
      "490  ->  ['R Ashwin']\n",
      "494  ->  ['KK Cooper']\n",
      "497  ->  ['RN ten Doeschate']\n",
      "511  ->  ['Parvez Rasool', 'R Vinay Kumar']\n",
      "513  ->  ['KK Cooper']\n",
      "514  ->  ['M Morkel', 'SP Narine']\n",
      "519  ->  ['DJ Muthuswami']\n",
      "520  ->  ['TG Southee']\n",
      "521  ->  ['DJ Bravo']\n",
      "522  ->  ['PP Chawla']\n",
      "524  ->  ['R Vinay Kumar']\n",
      "528  ->  ['R Dhawan', 'MK Tiwary']\n",
      "530  ->  ['J Suchith']\n",
      "539  ->  ['JJ Bumrah']\n",
      "549  ->  ['Harbhajan Singh']\n",
      "554  ->  ['YS Chahal', 'Mandeep Singh', 'MM Sharma']\n",
      "560  ->  ['GJ Bailey', 'UT Yadav']\n",
      "564  ->  ['BE Hendricks']\n",
      "566  ->  ['HV Patel']\n",
      "568  ->  ['SN Khan']\n",
      "575  ->  ['RA Jadeja']\n",
      "579  ->  ['MG Johnson']\n",
      "585  ->  ['MJ McClenaghan']\n",
      "590  ->  ['HV Patel']\n",
      "592  ->  ['I Sharma']\n",
      "596  ->  ['SP Narine']\n",
      "597  ->  ['MM Sharma', 'KH Pandya']\n",
      "598  ->  ['A Nehra']\n",
      "601  ->  ['P Kumar']\n",
      "602  ->  ['GB Hogg']\n",
      "604  ->  ['S Kaushik']\n",
      "606  ->  ['VR Aaron']\n",
      "614  ->  ['DJ Bravo']\n",
      "615  ->  ['STR Binny']\n",
      "616  ->  ['R Bhatia']\n",
      "622  ->  ['GJ Maxwell']\n",
      "634  ->  ['M Morkel', 'BB Sran']\n",
      "7896  ->  ['Washington Sundar']\n",
      "7899  ->  ['C Munro', 'SS Iyer']\n",
      "7905  ->  ['BB Sran']\n",
      "7906  ->  ['S Mavi']\n",
      "7908  ->  ['JD Unadkat']\n",
      "7912  ->  ['CH Morris']\n",
      "7914  ->  ['JD Unadkat']\n",
      "7917  ->  ['Mohammed Siraj']\n",
      "7919  ->  ['V Shankar']\n",
      "7920  ->  ['RA Jadeja']\n",
      "7921  ->  ['Basil Thampi']\n",
      "7923  ->  ['RA Jadeja']\n",
      "7924  ->  ['MJ McClenaghan']\n",
      "7925  ->  ['J Archer']\n",
      "7926  ->  ['KV Sharma']\n",
      "7927  ->  ['R Ashwin']\n",
      "7930  ->  ['PP Chawla']\n",
      "7934  ->  ['JP Duminy']\n",
      "7935  ->  ['V Shankar']\n",
      "7936  ->  ['J Archer']\n",
      "7940  ->  ['BA Stokes', 'JP Duminy']\n",
      "7947  ->  ['S Gill', 'S Kaul']\n",
      "7948  ->  ['Mustafizur Rahman']\n",
      "7951  ->  ['PP Chawla']\n",
      "7952  ->  ['P Krishna']\n",
      "11139  ->  ['JJ Bumrah']\n",
      "11145  ->  ['M Markande']\n",
      "11146  ->  ['HV Patel']\n",
      "11148  ->  ['JD Unadkat']\n",
      "11149  ->  ['M Ur Rahman']\n",
      "11152  ->  ['I Sharma']\n",
      "11310  ->  ['A Joseph']\n",
      "11318  ->  ['KH Pandya']\n",
      "11320  ->  ['Kuldeep Yadav']\n",
      "11322  ->  ['KA Pollard', 'Mohammed Siraj']\n",
      "11323  ->  ['JD Unadkat']\n",
      "11324  ->  ['YK Pathan']\n",
      "11325  ->  ['I Sharma', 'K Paul', 'KA Pollard']\n",
      "11326  ->  ['KD Karthik']\n",
      "11330  ->  ['DW Steyn', 'SN Thakur']\n",
      "11331  ->  ['SV Samson']\n",
      "11332  ->  ['DJ Bravo']\n",
      "11335  ->  ['Imran Tahir']\n",
      "11336  ->  ['S Kaul']\n",
      "11337  ->  ['UT Yadav']\n",
      "11340  ->  ['UT Yadav']\n",
      "11342  ->  ['Rashid Khan']\n",
      "11347  ->  ['SP Narine']\n",
      "11413  ->  ['TA Boult', 'B Kumar']\n",
      "11415  ->  ['JJ Bumrah']\n"
     ]
    }
   ],
   "source": [
    "print(\"Match ID\" , \" -> \")\n",
    "for match,group in ipl_del.groupby('match_id'):\n",
    "    non_str = set(group['non_striker'])\n",
    "    striker = set(group['batsman'])\n",
    "    if len(non_str-striker):\n",
    "        print( match,\" -> \" , list(non_str-striker))"
   ]
  },
  {
   "cell_type": "markdown",
   "metadata": {},
   "source": [
    "## 6) Which bowler has hit for maximum number of 1s/2s/3s/4s/6s?"
   ]
  },
  {
   "cell_type": "code",
   "execution_count": 197,
   "metadata": {},
   "outputs": [
    {
     "name": "stdout",
     "output_type": "stream",
     "text": [
      "1  ->  Harbhajan Singh\n",
      "2  ->  DJ Bravo\n",
      "3  ->  P Kumar\n",
      "4  ->  UT Yadav\n",
      "6  ->  PP Chawla\n"
     ]
    }
   ],
   "source": [
    "for i in [1,2,3,4,6]:\n",
    "    print(i, \" -> \",ipl_del[ipl_del['total_runs'] == i][['bowler','total_runs']].groupby('bowler').sum().idxmax()[0])"
   ]
  },
  {
   "cell_type": "markdown",
   "metadata": {},
   "source": [
    "## 7) Which batsman got stumped out maximum number of times?"
   ]
  },
  {
   "cell_type": "code",
   "execution_count": 210,
   "metadata": {},
   "outputs": [
    {
     "data": {
      "text/plain": [
       "'SK Raina'"
      ]
     },
     "execution_count": 210,
     "metadata": {},
     "output_type": "execute_result"
    }
   ],
   "source": [
    "ipl_del[ipl['dismissal_kind'] == 'stumped'][['batsman','dismissal_kind']].groupby('batsman').count().idxmax()[0]"
   ]
  },
  {
   "cell_type": "markdown",
   "metadata": {},
   "source": [
    "## 8) Which non-striker has been part of maximum number of runouts?"
   ]
  },
  {
   "cell_type": "code",
   "execution_count": 215,
   "metadata": {},
   "outputs": [
    {
     "data": {
      "text/plain": [
       "'AB de Villiers'"
      ]
     },
     "execution_count": 215,
     "metadata": {},
     "output_type": "execute_result"
    }
   ],
   "source": [
    "ipl_del[(ipl['dismissal_kind'] == 'run out') & (ipl_del['non_striker'] == ipl_del['player_dismissed'])][['non_striker','dismissal_kind']].groupby('non_striker').count().idxmax()[0]"
   ]
  },
  {
   "cell_type": "markdown",
   "metadata": {},
   "source": [
    "## Make at least 5 more new queries and find answers to them."
   ]
  },
  {
   "cell_type": "markdown",
   "metadata": {},
   "source": [
    "## 9) Which batsman has played minimum number of dot balls?\n"
   ]
  },
  {
   "cell_type": "code",
   "execution_count": 220,
   "metadata": {},
   "outputs": [
    {
     "data": {
      "text/plain": [
       "'C Nanda'"
      ]
     },
     "execution_count": 220,
     "metadata": {},
     "output_type": "execute_result"
    }
   ],
   "source": [
    "ipl_del[ipl_del['total_runs']==0].groupby('batsman')['total_runs'].value_counts().idxmin()[0]"
   ]
  },
  {
   "cell_type": "markdown",
   "metadata": {},
   "source": [
    "## 10) Which bowler has bowled maximum number of dot balls?\n"
   ]
  },
  {
   "cell_type": "code",
   "execution_count": 222,
   "metadata": {},
   "outputs": [
    {
     "data": {
      "text/plain": [
       "'Harbhajan Singh'"
      ]
     },
     "execution_count": 222,
     "metadata": {},
     "output_type": "execute_result"
    }
   ],
   "source": [
    "ipl_del[ipl_del['total_runs']==0].groupby('bowler')['total_runs'].value_counts().idxmax()[0]"
   ]
  },
  {
   "cell_type": "markdown",
   "metadata": {},
   "source": [
    "## 11) Which umpire officiated maximum number of matches"
   ]
  },
  {
   "cell_type": "code",
   "execution_count": 240,
   "metadata": {},
   "outputs": [
    {
     "data": {
      "text/plain": [
       "'S Ravi'"
      ]
     },
     "execution_count": 240,
     "metadata": {},
     "output_type": "execute_result"
    }
   ],
   "source": [
    "pd.concat([ipl_match['umpire1'],ipl_match['umpire2'],ipl_match['umpire3']], ignore_index=True).value_counts().idxmax()"
   ]
  },
  {
   "cell_type": "markdown",
   "metadata": {},
   "source": [
    "## 12) Team that won most by 10 wickets\n"
   ]
  },
  {
   "cell_type": "code",
   "execution_count": 246,
   "metadata": {},
   "outputs": [
    {
     "data": {
      "text/plain": [
       "'Royal Challengers Bangalore'"
      ]
     },
     "execution_count": 246,
     "metadata": {},
     "output_type": "execute_result"
    }
   ],
   "source": [
    "ipl_match[ipl_match['win_by_wickets'] == 10].groupby('winner')['win_by_wickets'].value_counts().idxmax()[0]"
   ]
  },
  {
   "cell_type": "markdown",
   "metadata": {},
   "source": [
    "## 13) Which batsman got bowled maximum number of times?\n"
   ]
  },
  {
   "cell_type": "code",
   "execution_count": 248,
   "metadata": {},
   "outputs": [
    {
     "data": {
      "text/plain": [
       "'SR Watson'"
      ]
     },
     "execution_count": 248,
     "metadata": {},
     "output_type": "execute_result"
    }
   ],
   "source": [
    "ipl_del[ipl['dismissal_kind'] == 'bowled'][['batsman','dismissal_kind']].groupby('batsman').count().idxmax()[0]"
   ]
  }
 ],
 "metadata": {
  "kernelspec": {
   "display_name": "Python 3",
   "language": "python",
   "name": "python3"
  },
  "language_info": {
   "codemirror_mode": {
    "name": "ipython",
    "version": 3
   },
   "file_extension": ".py",
   "mimetype": "text/x-python",
   "name": "python",
   "nbconvert_exporter": "python",
   "pygments_lexer": "ipython3",
   "version": "3.6.8"
  }
 },
 "nbformat": 4,
 "nbformat_minor": 2
}
